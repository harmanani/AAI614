{
 "cells": [
  {
   "cell_type": "markdown",
   "id": "61ea5f6e-6458-4301-85d3-76062b1922a6",
   "metadata": {},
   "source": [
    "# AAI614: Data Science & its Applications\n",
    "\n",
    "*Notebook 3.2: Practice with Data Cleaning*\n",
    "\n",
    "<a href=\"https://colab.research.google.com/github/harmanani/AAI614/blob/main/Week%203/Notebook3.2.ipynb\" target=\"_parent\"><img src=\"https://colab.research.google.com/assets/colab-badge.svg\" alt=\"Open In Colab\"/></a>"
   ]
  },
  {
   "cell_type": "code",
   "execution_count": null,
   "id": "c94dc240",
   "metadata": {},
   "outputs": [],
   "source": [
    "import pandas as pd\n",
    "import ssl\n",
    "\n",
    "ssl._create_default_https_context = ssl._create_unverified_context"
   ]
  },
  {
   "cell_type": "markdown",
   "id": "eb53db49",
   "metadata": {},
   "source": [
    "Exercise I. Load the following datafile from GitHub"
   ]
  },
  {
   "cell_type": "code",
   "execution_count": null,
   "id": "dfd04802",
   "metadata": {},
   "outputs": [],
   "source": [
    "grads = pd.read_csv(\"https://raw.githubusercontent.com/harmanani/AAI614/main/Week%203/grads.csv\")"
   ]
  },
  {
   "cell_type": "code",
   "execution_count": null,
   "id": "674715ec",
   "metadata": {},
   "outputs": [],
   "source": [
    "grads"
   ]
  },
  {
   "cell_type": "code",
   "execution_count": null,
   "id": "7330b38a",
   "metadata": {},
   "outputs": [],
   "source": []
  },
  {
   "cell_type": "markdown",
   "id": "9283d451",
   "metadata": {},
   "source": [
    "Question 1: Identify all the outliers in the above data.  Justify your answers using objective measures."
   ]
  },
  {
   "cell_type": "code",
   "execution_count": null,
   "id": "e0cd6711",
   "metadata": {},
   "outputs": [],
   "source": []
  },
  {
   "cell_type": "markdown",
   "id": "0bb699a0",
   "metadata": {},
   "source": [
    "Question 2: There are various data that are missing.  Fill-in the missing data or delete the rows/columns that you think you should delete.  Justify your answer"
   ]
  },
  {
   "cell_type": "code",
   "execution_count": null,
   "id": "9b63bbc0",
   "metadata": {},
   "outputs": [],
   "source": []
  },
  {
   "cell_type": "markdown",
   "id": "bfa5a43f",
   "metadata": {},
   "source": [
    "Question 3: Reload the data and fill-in the data using mean method as well as the frequent method."
   ]
  },
  {
   "cell_type": "code",
   "execution_count": null,
   "id": "39e4e77e",
   "metadata": {},
   "outputs": [],
   "source": []
  },
  {
   "cell_type": "markdown",
   "id": "26a4657e",
   "metadata": {},
   "source": [
    "Exercise II. Run the cell below to create a new dataframe called `df_miss`.  Its first column will contain some missing values."
   ]
  },
  {
   "cell_type": "code",
   "execution_count": null,
   "id": "4565ad8c",
   "metadata": {},
   "outputs": [],
   "source": [
    "import pandas as pd\n",
    "import numpy as np\n",
    "import random\n",
    "\n",
    "nrows = 10\n",
    "ncols = 5\n",
    "\n",
    "# set a seed for random number generation\n",
    "np.random.seed(314)\n",
    "# create an array filled with random data\n",
    "data = np.array(np.random.rand(nrows, ncols))\n",
    "# put the data to a pandas dataframe\n",
    "df_miss = pd.DataFrame(data)\n",
    "# rename the columns\n",
    "df_miss.columns = ['col_'+str(ii) for ii in range(ncols)]\n",
    "\n",
    "# randomly set some values to missing\n",
    "ix0 = np.random.randint(nrows, size=3)\n",
    "ix1 = np.random.randint(nrows, size=3)\n",
    "\n",
    "df_miss['col_0'][ix0] = np.nan\n",
    "df_miss['col_1'][ix1] = np.nan\n",
    "\n",
    "print(df_miss)"
   ]
  },
  {
   "cell_type": "markdown",
   "id": "5c6e0c64",
   "metadata": {},
   "source": [
    "Impute the missing values (NaN) in `col_0` (but not `col_1`) with the median.  Store the values in the dataframe by using the parameter `inplace`.  Print the dataframe."
   ]
  },
  {
   "cell_type": "code",
   "execution_count": null,
   "id": "253efe31",
   "metadata": {},
   "outputs": [],
   "source": []
  },
  {
   "cell_type": "markdown",
   "id": "e2e43725",
   "metadata": {},
   "source": [
    "Impute the missing values in `col_1` with value 0.  Store the values in the dataframe by using the parameter `inplace`.  Print the dataframe."
   ]
  },
  {
   "cell_type": "code",
   "execution_count": null,
   "id": "d3c600ba",
   "metadata": {},
   "outputs": [],
   "source": []
  }
 ],
 "metadata": {
  "kernelspec": {
   "display_name": "Python 3 (ipykernel)",
   "language": "python",
   "name": "python3"
  },
  "language_info": {
   "codemirror_mode": {
    "name": "ipython",
    "version": 3
   },
   "file_extension": ".py",
   "mimetype": "text/x-python",
   "name": "python",
   "nbconvert_exporter": "python",
   "pygments_lexer": "ipython3",
   "version": "3.10.11"
  }
 },
 "nbformat": 4,
 "nbformat_minor": 5
}
