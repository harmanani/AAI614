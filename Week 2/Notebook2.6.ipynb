{
 "cells": [
  {
   "cell_type": "markdown",
   "id": "fc7854ae",
   "metadata": {},
   "source": [
    "# AAI614: Data Science & its Applications\n",
    "\n",
    "*Notebook 2.6: Practice with Data Collections*\n",
    "\n",
    "<a href=\"https://colab.research.google.com/github/harmanani/AAI614/blob/main/Week%202/Notebook2.6.ipynb\" target=\"_parent\"><img src=\"https://colab.research.google.com/assets/colab-badge.svg\" alt=\"Open In Colab\"/></a>"
   ]
  },
  {
   "cell_type": "code",
   "execution_count": null,
   "id": "75417ef5",
   "metadata": {},
   "outputs": [],
   "source": [
    "import numpy as np\n",
    "import pandas as pd\n",
    "from pandas import Series, DataFrame\n",
    "\n",
    "import ssl\n",
    "\n",
    "ssl._create_default_https_context = ssl._create_unverified_context"
   ]
  },
  {
   "cell_type": "code",
   "execution_count": null,
   "id": "72f50802",
   "metadata": {
    "scrolled": true
   },
   "outputs": [],
   "source": [
    "# Import the taxi info from both January and July 2019.\n",
    "# Include the following columns: tpep_pickup_datetime, passenger_count, trip_distance,\n",
    "# fare_amount, extra, mta_tax, tip_amount, tolls_amount, improvement_surcharge,\n",
    "# total_amount, and congestion_surcharge.\n",
    "\n",
    "filenames = ['https://raw.githubusercontent.com/harmanani/AAI614/refs/heads/main/Week%202/nyc_taxi/nyc_taxi_2019-01aa.csv', 'https://raw.githubusercontent.com/harmanani/AAI614/refs/heads/main/Week%202/nyc_taxi/nyc_taxi_2019-01aq.csv', 'https://raw.githubusercontent.com/harmanani/AAI614/refs/heads/main/Week%202/nyc_taxi/nyc_taxi_2019-01bg.csv',\n",
    "             'https://raw.githubusercontent.com/harmanani/AAI614/refs/heads/main/Week%202/nyc_taxi/nyc_taxi_2019-07ap.csv', 'https://raw.githubusercontent.com/harmanani/AAI614/refs/heads/main/Week%202/nyc_taxi/nyc_taxi_2019-01ab.csv', 'https://raw.githubusercontent.com/harmanani/AAI614/refs/heads/main/Week%202/nyc_taxi/nyc_taxi_2019-01ar.csv',\n",
    "            'https://raw.githubusercontent.com/harmanani/AAI614/refs/heads/main/Week%202/nyc_taxi/nyc_taxi_2019-07aa.csv', 'https://raw.githubusercontent.com/harmanani/AAI614/refs/heads/main/Week%202/nyc_taxi/nyc_taxi_2019-07aq.csv', 'https://raw.githubusercontent.com/harmanani/AAI614/refs/heads/main/Week%202/nyc_taxi/nyc_taxi_2019-01ac.csv',\n",
    "            'https://raw.githubusercontent.com/harmanani/AAI614/refs/heads/main/Week%202/nyc_taxi/nyc_taxi_2019-01as.csv', 'https://raw.githubusercontent.com/harmanani/AAI614/refs/heads/main/Week%202/nyc_taxi/nyc_taxi_2019-07ab.csv', 'https://raw.githubusercontent.com/harmanani/AAI614/refs/heads/main/Week%202/nyc_taxi/nyc_taxi_2019-07ar.csv',\n",
    "            'https://raw.githubusercontent.com/harmanani/AAI614/refs/heads/main/Week%202/nyc_taxi/nyc_taxi_2019-01ad.csv', 'https://raw.githubusercontent.com/harmanani/AAI614/refs/heads/main/Week%202/nyc_taxi/nyc_taxi_2019-01at.csv', 'https://raw.githubusercontent.com/harmanani/AAI614/refs/heads/main/Week%202/nyc_taxi/nyc_taxi_2019-07ac.csv',\n",
    "            'https://raw.githubusercontent.com/harmanani/AAI614/refs/heads/main/Week%202/nyc_taxi/nyc_taxi_2019-07as.csv', 'https://raw.githubusercontent.com/harmanani/AAI614/refs/heads/main/Week%202/nyc_taxi/nyc_taxi_2019-01ae.csv', 'https://raw.githubusercontent.com/harmanani/AAI614/refs/heads/main/Week%202/nyc_taxi/nyc_taxi_2019-01au.csv',\n",
    "            'https://raw.githubusercontent.com/harmanani/AAI614/refs/heads/main/Week%202/nyc_taxi/nyc_taxi_2019-07ad.csv', 'https://raw.githubusercontent.com/harmanani/AAI614/refs/heads/main/Week%202/nyc_taxi/nyc_taxi_2019-07at.csv', 'https://raw.githubusercontent.com/harmanani/AAI614/refs/heads/main/Week%202/nyc_taxi/nyc_taxi_2019-01af.csv',\n",
    "            'https://raw.githubusercontent.com/harmanani/AAI614/refs/heads/main/Week%202/nyc_taxi/nyc_taxi_2019-01av.csv', 'https://raw.githubusercontent.com/harmanani/AAI614/refs/heads/main/Week%202/nyc_taxi/nyc_taxi_2019-07ae.csv', 'https://raw.githubusercontent.com/harmanani/AAI614/refs/heads/main/Week%202/nyc_taxi/nyc_taxi_2019-07au.csv',\n",
    "            'https://raw.githubusercontent.com/harmanani/AAI614/refs/heads/main/Week%202/nyc_taxi/nyc_taxi_2019-01ag.csv', 'https://raw.githubusercontent.com/harmanani/AAI614/refs/heads/main/Week%202/nyc_taxi/nyc_taxi_2019-01aw.csv', 'https://raw.githubusercontent.com/harmanani/AAI614/refs/heads/main/Week%202/nyc_taxi/nyc_taxi_2019-07af.csv',\n",
    "            'https://raw.githubusercontent.com/harmanani/AAI614/refs/heads/main/Week%202/nyc_taxi/nyc_taxi_2019-07av.csv', 'https://raw.githubusercontent.com/harmanani/AAI614/refs/heads/main/Week%202/nyc_taxi/nyc_taxi_2019-01ah.csv', 'https://raw.githubusercontent.com/harmanani/AAI614/refs/heads/main/Week%202/nyc_taxi/nyc_taxi_2019-01ax.csv',\n",
    "            'https://raw.githubusercontent.com/harmanani/AAI614/refs/heads/main/Week%202/nyc_taxi/nyc_taxi_2019-07ag.csv', 'https://raw.githubusercontent.com/harmanani/AAI614/refs/heads/main/Week%202/nyc_taxi/nyc_taxi_2019-07aw.csv', 'https://raw.githubusercontent.com/harmanani/AAI614/refs/heads/main/Week%202/nyc_taxi/nyc_taxi_2019-01ai.csv', \n",
    "            'https://raw.githubusercontent.com/harmanani/AAI614/refs/heads/main/Week%202/nyc_taxi/nyc_taxi_2019-01ay.csv',\n",
    "            'https://raw.githubusercontent.com/harmanani/AAI614/refs/heads/main/Week%202/nyc_taxi/nyc_taxi_2019-07ah.csv', 'https://raw.githubusercontent.com/harmanani/AAI614/refs/heads/main/Week%202/nyc_taxi/nyc_taxi_2019-07ax.csv', 'https://raw.githubusercontent.com/harmanani/AAI614/refs/heads/main/Week%202/nyc_taxi/nyc_taxi_2019-01aj.csv',\n",
    "            'https://raw.githubusercontent.com/harmanani/AAI614/refs/heads/main/Week%202/nyc_taxi/nyc_taxi_2019-01az.csv', 'https://raw.githubusercontent.com/harmanani/AAI614/refs/heads/main/Week%202/nyc_taxi/nyc_taxi_2019-07ai.csv', 'https://raw.githubusercontent.com/harmanani/AAI614/refs/heads/main/Week%202/nyc_taxi/nyc_taxi_2019-07ay.csv',\n",
    "            'https://raw.githubusercontent.com/harmanani/AAI614/refs/heads/main/Week%202/nyc_taxi/nyc_taxi_2019-01ak.csv', 'https://raw.githubusercontent.com/harmanani/AAI614/refs/heads/main/Week%202/nyc_taxi/nyc_taxi_2019-01ba.csv', 'https://raw.githubusercontent.com/harmanani/AAI614/refs/heads/main/Week%202/nyc_taxi/nyc_taxi_2019-07aj.csv',\n",
    "            'https://raw.githubusercontent.com/harmanani/AAI614/refs/heads/main/Week%202/nyc_taxi/nyc_taxi_2019-07az.csv', 'https://raw.githubusercontent.com/harmanani/AAI614/refs/heads/main/Week%202/nyc_taxi/nyc_taxi_2019-01al.csv', 'https://raw.githubusercontent.com/harmanani/AAI614/refs/heads/main/Week%202/nyc_taxi/nyc_taxi_2019-01bb.csv', \n",
    "            'https://raw.githubusercontent.com/harmanani/AAI614/refs/heads/main/Week%202/nyc_taxi/nyc_taxi_2019-07ak.csv', 'https://raw.githubusercontent.com/harmanani/AAI614/refs/heads/main/Week%202/nyc_taxi/nyc_taxi_2019-07ba.csv', 'https://raw.githubusercontent.com/harmanani/AAI614/refs/heads/main/Week%202/nyc_taxi/nyc_taxi_2019-01am.csv',\n",
    "            'https://raw.githubusercontent.com/harmanani/AAI614/refs/heads/main/Week%202/nyc_taxi/nyc_taxi_2019-01bc.csv', 'https://raw.githubusercontent.com/harmanani/AAI614/refs/heads/main/Week%202/nyc_taxi/nyc_taxi_2019-07al.csv', 'https://raw.githubusercontent.com/harmanani/AAI614/refs/heads/main/Week%202/nyc_taxi/nyc_taxi_2019-07bb.csv',\n",
    "            'https://raw.githubusercontent.com/harmanani/AAI614/refs/heads/main/Week%202/nyc_taxi/nyc_taxi_2019-01an.csv', 'https://raw.githubusercontent.com/harmanani/AAI614/refs/heads/main/Week%202/nyc_taxi/nyc_taxi_2019-01bd.csv', 'https://raw.githubusercontent.com/harmanani/AAI614/refs/heads/main/Week%202/nyc_taxi/nyc_taxi_2019-07am.csv',\n",
    "            'https://raw.githubusercontent.com/harmanani/AAI614/refs/heads/main/Week%202/nyc_taxi/nyc_taxi_2019-01ao.csv', 'https://raw.githubusercontent.com/harmanani/AAI614/refs/heads/main/Week%202/nyc_taxi/nyc_taxi_2019-01be.csv', 'https://raw.githubusercontent.com/harmanani/AAI614/refs/heads/main/Week%202/nyc_taxi/nyc_taxi_2019-07an.csv',\n",
    "            'https://raw.githubusercontent.com/harmanani/AAI614/refs/heads/main/Week%202/nyc_taxi/nyc_taxi_2019-01ap.csv', 'https://raw.githubusercontent.com/harmanani/AAI614/refs/heads/main/Week%202/nyc_taxi/nyc_taxi_2019-01bf.csv', 'https://raw.githubusercontent.com/harmanani/AAI614/refs/heads/main/Week%202/nyc_taxi/nyc_taxi_2019-07ao.csv']\n",
    "\n",
    "file_headers = ['VendorID', 'tpep_pickup_datetime', 'tpep_dropoff_datetime', 'passenger_count', 'trip_distance', 'RatecodeID', 'store_and_fwd_flag', 'PULocationID', 'DOLocationID', 'payment_type', 'fare_amount', 'extra', 'mta_tax', 'tip_amount', 'tolls_amount', 'improvement_surcharge', 'total_amount', 'congestion_surcharge']\n",
    "included_col = ['tpep_pickup_datetime', 'passenger_count', 'trip_distance', 'fare_amount', 'extra', 'mta_tax', 'tip_amount', 'tolls_amount', 'improvement_surcharge', 'total_amount', 'congestion_surcharge']\n",
    "\n",
    "all_dfs = [pd.read_csv(one_filename, names = file_headers, header = 1, low_memory = False, usecols = included_col, parse_dates = ['tpep_pickup_datetime']) for one_filename in filenames]\n",
    "\n",
    "df = pd.concat(all_dfs)\n",
    "\n",
    "df.head()"
   ]
  },
  {
   "cell_type": "code",
   "execution_count": 17,
   "id": "e50fa600",
   "metadata": {},
   "outputs": [
    {
     "data": {
      "text/html": [
       "<div>\n",
       "<style scoped>\n",
       "    .dataframe tbody tr th:only-of-type {\n",
       "        vertical-align: middle;\n",
       "    }\n",
       "\n",
       "    .dataframe tbody tr th {\n",
       "        vertical-align: top;\n",
       "    }\n",
       "\n",
       "    .dataframe thead th {\n",
       "        text-align: right;\n",
       "    }\n",
       "</style>\n",
       "<table border=\"1\" class=\"dataframe\">\n",
       "  <thead>\n",
       "    <tr style=\"text-align: right;\">\n",
       "      <th></th>\n",
       "      <th>tpep_pickup_datetime</th>\n",
       "      <th>passenger_count</th>\n",
       "      <th>trip_distance</th>\n",
       "      <th>fare_amount</th>\n",
       "      <th>extra</th>\n",
       "      <th>mta_tax</th>\n",
       "      <th>tip_amount</th>\n",
       "      <th>tolls_amount</th>\n",
       "      <th>improvement_surcharge</th>\n",
       "      <th>total_amount</th>\n",
       "      <th>congestion_surcharge</th>\n",
       "      <th>pre_tip_amount</th>\n",
       "      <th>tip_percentage</th>\n",
       "    </tr>\n",
       "  </thead>\n",
       "  <tbody>\n",
       "    <tr>\n",
       "      <th>0</th>\n",
       "      <td>2019-01-01 00:59:47</td>\n",
       "      <td>1.0</td>\n",
       "      <td>2.60</td>\n",
       "      <td>14.0</td>\n",
       "      <td>0.5</td>\n",
       "      <td>0.5</td>\n",
       "      <td>1.00</td>\n",
       "      <td>0.00</td>\n",
       "      <td>0.3</td>\n",
       "      <td>16.30</td>\n",
       "      <td>NaN</td>\n",
       "      <td>15.30</td>\n",
       "      <td>0.065359</td>\n",
       "    </tr>\n",
       "    <tr>\n",
       "      <th>1</th>\n",
       "      <td>2018-12-21 13:48:30</td>\n",
       "      <td>3.0</td>\n",
       "      <td>0.00</td>\n",
       "      <td>4.5</td>\n",
       "      <td>0.5</td>\n",
       "      <td>0.5</td>\n",
       "      <td>0.00</td>\n",
       "      <td>0.00</td>\n",
       "      <td>0.3</td>\n",
       "      <td>5.80</td>\n",
       "      <td>NaN</td>\n",
       "      <td>5.80</td>\n",
       "      <td>0.000000</td>\n",
       "    </tr>\n",
       "    <tr>\n",
       "      <th>2</th>\n",
       "      <td>2018-11-28 15:52:25</td>\n",
       "      <td>5.0</td>\n",
       "      <td>0.00</td>\n",
       "      <td>3.5</td>\n",
       "      <td>0.5</td>\n",
       "      <td>0.5</td>\n",
       "      <td>0.00</td>\n",
       "      <td>0.00</td>\n",
       "      <td>0.3</td>\n",
       "      <td>7.55</td>\n",
       "      <td>NaN</td>\n",
       "      <td>4.80</td>\n",
       "      <td>0.000000</td>\n",
       "    </tr>\n",
       "    <tr>\n",
       "      <th>3</th>\n",
       "      <td>2018-11-28 15:56:57</td>\n",
       "      <td>5.0</td>\n",
       "      <td>0.00</td>\n",
       "      <td>52.0</td>\n",
       "      <td>0.0</td>\n",
       "      <td>0.5</td>\n",
       "      <td>0.00</td>\n",
       "      <td>0.00</td>\n",
       "      <td>0.3</td>\n",
       "      <td>55.55</td>\n",
       "      <td>NaN</td>\n",
       "      <td>52.80</td>\n",
       "      <td>0.000000</td>\n",
       "    </tr>\n",
       "    <tr>\n",
       "      <th>4</th>\n",
       "      <td>2018-11-28 16:25:49</td>\n",
       "      <td>5.0</td>\n",
       "      <td>0.00</td>\n",
       "      <td>3.5</td>\n",
       "      <td>0.5</td>\n",
       "      <td>0.5</td>\n",
       "      <td>0.00</td>\n",
       "      <td>5.76</td>\n",
       "      <td>0.3</td>\n",
       "      <td>13.31</td>\n",
       "      <td>NaN</td>\n",
       "      <td>10.56</td>\n",
       "      <td>0.000000</td>\n",
       "    </tr>\n",
       "    <tr>\n",
       "      <th>...</th>\n",
       "      <td>...</td>\n",
       "      <td>...</td>\n",
       "      <td>...</td>\n",
       "      <td>...</td>\n",
       "      <td>...</td>\n",
       "      <td>...</td>\n",
       "      <td>...</td>\n",
       "      <td>...</td>\n",
       "      <td>...</td>\n",
       "      <td>...</td>\n",
       "      <td>...</td>\n",
       "      <td>...</td>\n",
       "      <td>...</td>\n",
       "    </tr>\n",
       "    <tr>\n",
       "      <th>225983</th>\n",
       "      <td>2019-07-18 13:56:49</td>\n",
       "      <td>1.0</td>\n",
       "      <td>1.70</td>\n",
       "      <td>15.0</td>\n",
       "      <td>0.0</td>\n",
       "      <td>0.5</td>\n",
       "      <td>2.00</td>\n",
       "      <td>0.00</td>\n",
       "      <td>0.3</td>\n",
       "      <td>20.30</td>\n",
       "      <td>2.5</td>\n",
       "      <td>18.30</td>\n",
       "      <td>0.109290</td>\n",
       "    </tr>\n",
       "    <tr>\n",
       "      <th>225984</th>\n",
       "      <td>2019-07-18 13:44:23</td>\n",
       "      <td>2.0</td>\n",
       "      <td>1.50</td>\n",
       "      <td>8.0</td>\n",
       "      <td>2.5</td>\n",
       "      <td>0.5</td>\n",
       "      <td>2.25</td>\n",
       "      <td>0.00</td>\n",
       "      <td>0.3</td>\n",
       "      <td>13.55</td>\n",
       "      <td>2.5</td>\n",
       "      <td>13.80</td>\n",
       "      <td>0.163043</td>\n",
       "    </tr>\n",
       "    <tr>\n",
       "      <th>225985</th>\n",
       "      <td>2019-07-18 13:58:08</td>\n",
       "      <td>1.0</td>\n",
       "      <td>0.10</td>\n",
       "      <td>3.0</td>\n",
       "      <td>2.5</td>\n",
       "      <td>0.5</td>\n",
       "      <td>0.00</td>\n",
       "      <td>0.00</td>\n",
       "      <td>0.3</td>\n",
       "      <td>6.30</td>\n",
       "      <td>2.5</td>\n",
       "      <td>8.80</td>\n",
       "      <td>0.000000</td>\n",
       "    </tr>\n",
       "    <tr>\n",
       "      <th>225986</th>\n",
       "      <td>2019-07-18 13:09:09</td>\n",
       "      <td>5.0</td>\n",
       "      <td>16.85</td>\n",
       "      <td>52.0</td>\n",
       "      <td>0.0</td>\n",
       "      <td>0.5</td>\n",
       "      <td>11.06</td>\n",
       "      <td>0.00</td>\n",
       "      <td>0.3</td>\n",
       "      <td>66.36</td>\n",
       "      <td>2.5</td>\n",
       "      <td>55.30</td>\n",
       "      <td>0.200000</td>\n",
       "    </tr>\n",
       "    <tr>\n",
       "      <th>225987</th>\n",
       "      <td>2019-07-18 13:39:01</td>\n",
       "      <td>5.0</td>\n",
       "      <td>1.97</td>\n",
       "      <td>11.0</td>\n",
       "      <td>0.0</td>\n",
       "      <td>0.5</td>\n",
       "      <td>3.58</td>\n",
       "      <td>0.00</td>\n",
       "      <td>0.3</td>\n",
       "      <td>17.88</td>\n",
       "      <td>2.5</td>\n",
       "      <td>14.30</td>\n",
       "      <td>0.250350</td>\n",
       "    </tr>\n",
       "  </tbody>\n",
       "</table>\n",
       "<p>13978148 rows × 13 columns</p>\n",
       "</div>"
      ],
      "text/plain": [
       "       tpep_pickup_datetime  passenger_count  trip_distance  fare_amount  \\\n",
       "0       2019-01-01 00:59:47              1.0           2.60         14.0   \n",
       "1       2018-12-21 13:48:30              3.0           0.00          4.5   \n",
       "2       2018-11-28 15:52:25              5.0           0.00          3.5   \n",
       "3       2018-11-28 15:56:57              5.0           0.00         52.0   \n",
       "4       2018-11-28 16:25:49              5.0           0.00          3.5   \n",
       "...                     ...              ...            ...          ...   \n",
       "225983  2019-07-18 13:56:49              1.0           1.70         15.0   \n",
       "225984  2019-07-18 13:44:23              2.0           1.50          8.0   \n",
       "225985  2019-07-18 13:58:08              1.0           0.10          3.0   \n",
       "225986  2019-07-18 13:09:09              5.0          16.85         52.0   \n",
       "225987  2019-07-18 13:39:01              5.0           1.97         11.0   \n",
       "\n",
       "        extra  mta_tax  tip_amount  tolls_amount  improvement_surcharge  \\\n",
       "0         0.5      0.5        1.00          0.00                    0.3   \n",
       "1         0.5      0.5        0.00          0.00                    0.3   \n",
       "2         0.5      0.5        0.00          0.00                    0.3   \n",
       "3         0.0      0.5        0.00          0.00                    0.3   \n",
       "4         0.5      0.5        0.00          5.76                    0.3   \n",
       "...       ...      ...         ...           ...                    ...   \n",
       "225983    0.0      0.5        2.00          0.00                    0.3   \n",
       "225984    2.5      0.5        2.25          0.00                    0.3   \n",
       "225985    2.5      0.5        0.00          0.00                    0.3   \n",
       "225986    0.0      0.5       11.06          0.00                    0.3   \n",
       "225987    0.0      0.5        3.58          0.00                    0.3   \n",
       "\n",
       "        total_amount  congestion_surcharge  pre_tip_amount  tip_percentage  \n",
       "0              16.30                   NaN           15.30        0.065359  \n",
       "1               5.80                   NaN            5.80        0.000000  \n",
       "2               7.55                   NaN            4.80        0.000000  \n",
       "3              55.55                   NaN           52.80        0.000000  \n",
       "4              13.31                   NaN           10.56        0.000000  \n",
       "...              ...                   ...             ...             ...  \n",
       "225983         20.30                   2.5           18.30        0.109290  \n",
       "225984         13.55                   2.5           13.80        0.163043  \n",
       "225985          6.30                   2.5            8.80        0.000000  \n",
       "225986         66.36                   2.5           55.30        0.200000  \n",
       "225987         17.88                   2.5           14.30        0.250350  \n",
       "\n",
       "[13978148 rows x 13 columns]"
      ]
     },
     "execution_count": 17,
     "metadata": {},
     "output_type": "execute_result"
    }
   ],
   "source": [
    "# Create a new column, pre_tip_amount\n",
    "df['pre_tip_amount'] = (\n",
    "    df\n",
    "    [['fare_amount', 'extra', 'mta_tax', 'tolls_amount', \n",
    "      'improvement_surcharge', 'congestion_surcharge']]\n",
    "    .sum(axis='columns')\n",
    ") \n",
    "df"
   ]
  },
  {
   "cell_type": "code",
   "execution_count": 18,
   "id": "4e8a58e2",
   "metadata": {},
   "outputs": [],
   "source": [
    "# Create a new column, tip_percentage, showing the percent of the fare_amount that people tipped\n",
    "df['tip_percentage'] = df['tip_amount'] / df['pre_tip_amount']"
   ]
  },
  {
   "cell_type": "code",
   "execution_count": 19,
   "id": "da53a378",
   "metadata": {},
   "outputs": [
    {
     "data": {
      "text/plain": [
       "0.13003964768802664"
      ]
     },
     "execution_count": 19,
     "metadata": {},
     "output_type": "execute_result"
    }
   ],
   "source": [
    "# What was the overall tip percentage?\n",
    "df['tip_percentage'].mean()"
   ]
  },
  {
   "cell_type": "code",
   "execution_count": null,
   "id": "c3e69f9d",
   "metadata": {
    "scrolled": true
   },
   "outputs": [],
   "source": [
    "# How many times did people tip more than 100%?\n",
    "(df['tip_percentage'] > 1).value_counts()"
   ]
  },
  {
   "cell_type": "code",
   "execution_count": null,
   "id": "98552a52",
   "metadata": {},
   "outputs": [],
   "source": [
    "# What percent of taxi riders give no tip at all?\n",
    "(df['tip_percentage'] == 0).value_counts(normalize=True)"
   ]
  },
  {
   "cell_type": "code",
   "execution_count": 16,
   "id": "352a2c0b",
   "metadata": {
    "scrolled": true
   },
   "outputs": [
    {
     "ename": "AttributeError",
     "evalue": "Can only use .dt accessor with datetimelike values",
     "output_type": "error",
     "traceback": [
      "\u001b[0;31m---------------------------------------------------------------------------\u001b[0m",
      "\u001b[0;31mAttributeError\u001b[0m                            Traceback (most recent call last)",
      "Cell \u001b[0;32mIn[16], line 4\u001b[0m\n\u001b[1;32m      1\u001b[0m \u001b[38;5;66;03m# On which day of the week do people tip the greatest percentage?\u001b[39;00m\n\u001b[1;32m      2\u001b[0m \u001b[38;5;66;03m# Mon = 0, Tues = 1, Wed = 2, Thu = 3, Fri = 4, Sat = 5, Sun = 6\u001b[39;00m\n\u001b[0;32m----> 4\u001b[0m df\u001b[38;5;241m.\u001b[39mgroupby(\u001b[43mdf\u001b[49m\u001b[43m[\u001b[49m\u001b[38;5;124;43m'\u001b[39;49m\u001b[38;5;124;43mtpep_pickup_datetime\u001b[39;49m\u001b[38;5;124;43m'\u001b[39;49m\u001b[43m]\u001b[49m\u001b[38;5;241;43m.\u001b[39;49m\u001b[43mdt\u001b[49m\u001b[38;5;241m.\u001b[39mday_of_week)[\u001b[38;5;124m'\u001b[39m\u001b[38;5;124mtip_percentage\u001b[39m\u001b[38;5;124m'\u001b[39m]\u001b[38;5;241m.\u001b[39mmean()\u001b[38;5;241m.\u001b[39msort_values(ascending\u001b[38;5;241m=\u001b[39m\u001b[38;5;28;01mFalse\u001b[39;00m)\n",
      "File \u001b[0;32m/Library/Frameworks/Python.framework/Versions/3.10/lib/python3.10/site-packages/pandas/core/generic.py:6299\u001b[0m, in \u001b[0;36mNDFrame.__getattr__\u001b[0;34m(self, name)\u001b[0m\n\u001b[1;32m   6292\u001b[0m \u001b[38;5;28;01mif\u001b[39;00m (\n\u001b[1;32m   6293\u001b[0m     name \u001b[38;5;129;01mnot\u001b[39;00m \u001b[38;5;129;01min\u001b[39;00m \u001b[38;5;28mself\u001b[39m\u001b[38;5;241m.\u001b[39m_internal_names_set\n\u001b[1;32m   6294\u001b[0m     \u001b[38;5;129;01mand\u001b[39;00m name \u001b[38;5;129;01mnot\u001b[39;00m \u001b[38;5;129;01min\u001b[39;00m \u001b[38;5;28mself\u001b[39m\u001b[38;5;241m.\u001b[39m_metadata\n\u001b[1;32m   6295\u001b[0m     \u001b[38;5;129;01mand\u001b[39;00m name \u001b[38;5;129;01mnot\u001b[39;00m \u001b[38;5;129;01min\u001b[39;00m \u001b[38;5;28mself\u001b[39m\u001b[38;5;241m.\u001b[39m_accessors\n\u001b[1;32m   6296\u001b[0m     \u001b[38;5;129;01mand\u001b[39;00m \u001b[38;5;28mself\u001b[39m\u001b[38;5;241m.\u001b[39m_info_axis\u001b[38;5;241m.\u001b[39m_can_hold_identifiers_and_holds_name(name)\n\u001b[1;32m   6297\u001b[0m ):\n\u001b[1;32m   6298\u001b[0m     \u001b[38;5;28;01mreturn\u001b[39;00m \u001b[38;5;28mself\u001b[39m[name]\n\u001b[0;32m-> 6299\u001b[0m \u001b[38;5;28;01mreturn\u001b[39;00m \u001b[38;5;28;43mobject\u001b[39;49m\u001b[38;5;241;43m.\u001b[39;49m\u001b[38;5;21;43m__getattribute__\u001b[39;49m\u001b[43m(\u001b[49m\u001b[38;5;28;43mself\u001b[39;49m\u001b[43m,\u001b[49m\u001b[43m \u001b[49m\u001b[43mname\u001b[49m\u001b[43m)\u001b[49m\n",
      "File \u001b[0;32m/Library/Frameworks/Python.framework/Versions/3.10/lib/python3.10/site-packages/pandas/core/accessor.py:224\u001b[0m, in \u001b[0;36mCachedAccessor.__get__\u001b[0;34m(self, obj, cls)\u001b[0m\n\u001b[1;32m    221\u001b[0m \u001b[38;5;28;01mif\u001b[39;00m obj \u001b[38;5;129;01mis\u001b[39;00m \u001b[38;5;28;01mNone\u001b[39;00m:\n\u001b[1;32m    222\u001b[0m     \u001b[38;5;66;03m# we're accessing the attribute of the class, i.e., Dataset.geo\u001b[39;00m\n\u001b[1;32m    223\u001b[0m     \u001b[38;5;28;01mreturn\u001b[39;00m \u001b[38;5;28mself\u001b[39m\u001b[38;5;241m.\u001b[39m_accessor\n\u001b[0;32m--> 224\u001b[0m accessor_obj \u001b[38;5;241m=\u001b[39m \u001b[38;5;28;43mself\u001b[39;49m\u001b[38;5;241;43m.\u001b[39;49m\u001b[43m_accessor\u001b[49m\u001b[43m(\u001b[49m\u001b[43mobj\u001b[49m\u001b[43m)\u001b[49m\n\u001b[1;32m    225\u001b[0m \u001b[38;5;66;03m# Replace the property with the accessor object. Inspired by:\u001b[39;00m\n\u001b[1;32m    226\u001b[0m \u001b[38;5;66;03m# https://www.pydanny.com/cached-property.html\u001b[39;00m\n\u001b[1;32m    227\u001b[0m \u001b[38;5;66;03m# We need to use object.__setattr__ because we overwrite __setattr__ on\u001b[39;00m\n\u001b[1;32m    228\u001b[0m \u001b[38;5;66;03m# NDFrame\u001b[39;00m\n\u001b[1;32m    229\u001b[0m \u001b[38;5;28mobject\u001b[39m\u001b[38;5;241m.\u001b[39m\u001b[38;5;21m__setattr__\u001b[39m(obj, \u001b[38;5;28mself\u001b[39m\u001b[38;5;241m.\u001b[39m_name, accessor_obj)\n",
      "File \u001b[0;32m/Library/Frameworks/Python.framework/Versions/3.10/lib/python3.10/site-packages/pandas/core/indexes/accessors.py:643\u001b[0m, in \u001b[0;36mCombinedDatetimelikeProperties.__new__\u001b[0;34m(cls, data)\u001b[0m\n\u001b[1;32m    640\u001b[0m \u001b[38;5;28;01melif\u001b[39;00m \u001b[38;5;28misinstance\u001b[39m(data\u001b[38;5;241m.\u001b[39mdtype, PeriodDtype):\n\u001b[1;32m    641\u001b[0m     \u001b[38;5;28;01mreturn\u001b[39;00m PeriodProperties(data, orig)\n\u001b[0;32m--> 643\u001b[0m \u001b[38;5;28;01mraise\u001b[39;00m \u001b[38;5;167;01mAttributeError\u001b[39;00m(\u001b[38;5;124m\"\u001b[39m\u001b[38;5;124mCan only use .dt accessor with datetimelike values\u001b[39m\u001b[38;5;124m\"\u001b[39m)\n",
      "\u001b[0;31mAttributeError\u001b[0m: Can only use .dt accessor with datetimelike values"
     ]
    }
   ],
   "source": [
    "# On which day of the week do people tip the greatest percentage?\n",
    "# Mon = 0, Tues = 1, Wed = 2, Thu = 3, Fri = 4, Sat = 5, Sun = 6\n",
    "\n",
    "df.groupby(df['tpep_pickup_datetime'].dt.day_of_week)['tip_percentage'].mean().sort_values(ascending=False)"
   ]
  },
  {
   "cell_type": "code",
   "execution_count": null,
   "id": "3ee84377",
   "metadata": {
    "scrolled": true
   },
   "outputs": [],
   "source": [
    "# At which hour do people tip the greatest percentage?\n",
    "df.groupby(df['tpep_pickup_datetime'].dt.hour)['tip_percentage'].mean().sort_values(ascending=False)"
   ]
  },
  {
   "cell_type": "code",
   "execution_count": null,
   "id": "4396ea84",
   "metadata": {
    "scrolled": true
   },
   "outputs": [],
   "source": [
    "# Do people tip more, on average, in January or July?\n",
    "df.groupby(df['tpep_pickup_datetime'].dt.month)['tip_percentage'].mean().sort_values(ascending=False)"
   ]
  },
  {
   "cell_type": "code",
   "execution_count": null,
   "id": "5f65e5ed",
   "metadata": {},
   "outputs": [],
   "source": [
    "# What was the 1-day period in our data set when people tipped the greatest percentage?\n",
    "df = df.set_index('tpep_pickup_datetime')\n",
    "df.resample('1D')['tip_percentage'].mean().sort_values(ascending=False).head(10)"
   ]
  },
  {
   "cell_type": "code",
   "execution_count": null,
   "id": "db8540a2",
   "metadata": {},
   "outputs": [],
   "source": [
    "# Try again, within our range\n",
    "df = df.sort_index()\n",
    "\n",
    "df = pd.concat([df.loc['2019-01-01':'2019-01-31'],\n",
    "           df.loc['2019-07-01':'2019-07-31']])\n",
    "\n",
    "df.resample('1D')['tip_percentage'].mean().sort_values(ascending=False).head(10)"
   ]
  },
  {
   "cell_type": "code",
   "execution_count": null,
   "id": "5388c8d4",
   "metadata": {},
   "outputs": [],
   "source": [
    "df.resample('1M')['tip_percentage'].mean().dropna()"
   ]
  },
  {
   "cell_type": "markdown",
   "id": "6c95720f",
   "metadata": {},
   "source": [
    "# Questions"
   ]
  },
  {
   "cell_type": "markdown",
   "id": "ba13d442",
   "metadata": {},
   "source": [
    "1. We saw that 32 percent of riders don't tip at all. Of those who *do*, what percentage do they tip, on average?"
   ]
  },
  {
   "cell_type": "code",
   "execution_count": null,
   "id": "5da12f8f",
   "metadata": {},
   "outputs": [],
   "source": []
  },
  {
   "cell_type": "markdown",
   "id": "9ac7ee93",
   "metadata": {},
   "source": [
    "2. How many of the rides in our data set, supposedly from January and July 2019, are from outside of those dates?"
   ]
  },
  {
   "cell_type": "code",
   "execution_count": null,
   "id": "2ffbde94",
   "metadata": {},
   "outputs": [],
   "source": []
  },
  {
   "cell_type": "markdown",
   "id": "9aeae03b",
   "metadata": {},
   "source": [
    "3. Looking only at dates in January and July, on what week did passengers tip the greatest percentage?"
   ]
  },
  {
   "cell_type": "code",
   "execution_count": null,
   "id": "329fa72b",
   "metadata": {},
   "outputs": [],
   "source": []
  }
 ],
 "metadata": {
  "kernelspec": {
   "display_name": "Python 3",
   "language": "python",
   "name": "python3"
  },
  "language_info": {
   "codemirror_mode": {
    "name": "ipython",
    "version": 3
   },
   "file_extension": ".py",
   "mimetype": "text/x-python",
   "name": "python",
   "nbconvert_exporter": "python",
   "pygments_lexer": "ipython3",
   "version": "3.10.11"
  }
 },
 "nbformat": 4,
 "nbformat_minor": 5
}
