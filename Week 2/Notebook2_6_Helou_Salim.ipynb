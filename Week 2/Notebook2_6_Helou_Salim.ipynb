{
 "cells": [
  {
   "cell_type": "markdown",
   "metadata": {
    "colab_type": "text",
    "id": "view-in-github"
   },
   "source": [
    "<a href=\"https://colab.research.google.com/github/sh-dev-gh/AAI614_Helou/blob/main/Notebook2_6_Helou_Salim.ipynb\" target=\"_parent\"><img src=\"https://colab.research.google.com/assets/colab-badge.svg\" alt=\"Open In Colab\"/></a>"
   ]
  },
  {
   "cell_type": "markdown",
   "id": "fc7854ae",
   "metadata": {
    "id": "fc7854ae"
   },
   "source": [
    "# AAI614: Data Science & its Applications\n",
    "\n",
    "*Notebook 2.6: Practice with Data Collections*\n",
    "\n",
    "<a href=\"https://colab.research.google.com/github/harmanani/AAI614/blob/main/Week%202/Notebook2.6.ipynb\" target=\"_parent\"><img src=\"https://colab.research.google.com/assets/colab-badge.svg\" alt=\"Open In Colab\"/></a>"
   ]
  },
  {
   "cell_type": "code",
   "execution_count": null,
   "id": "75417ef5",
   "metadata": {
    "id": "75417ef5"
   },
   "outputs": [],
   "source": [
    "import numpy as np\n",
    "import pandas as pd\n",
    "from pandas import Series, DataFrame\n",
    "\n",
    "import ssl\n",
    "\n",
    "ssl._create_default_https_context = ssl._create_unverified_context"
   ]
  },
  {
   "cell_type": "code",
   "execution_count": null,
   "id": "72f50802",
   "metadata": {
    "colab": {
     "base_uri": "https://localhost:8080/",
     "height": 206
    },
    "id": "72f50802",
    "outputId": "979ee99d-c3fd-4d93-b12a-90f312a31461",
    "scrolled": true
   },
   "outputs": [],
   "source": [
    "# Import the taxi info from both January and July 2019.\n",
    "# Include the following columns: tpep_pickup_datetime, passenger_count, trip_distance,\n",
    "# fare_amount, extra, mta_tax, tip_amount, tolls_amount, improvement_surcharge,\n",
    "# total_amount, and congestion_surcharge.\n",
    "\n",
    "filenames = ['https://raw.githubusercontent.com/harmanani/AAI614/refs/heads/main/Week%202/nyc_taxi/nyc_taxi_2019-01aa.csv', 'https://raw.githubusercontent.com/harmanani/AAI614/refs/heads/main/Week%202/nyc_taxi/nyc_taxi_2019-01aq.csv', 'https://raw.githubusercontent.com/harmanani/AAI614/refs/heads/main/Week%202/nyc_taxi/nyc_taxi_2019-01bg.csv',\n",
    "             'https://raw.githubusercontent.com/harmanani/AAI614/refs/heads/main/Week%202/nyc_taxi/nyc_taxi_2019-07ap.csv', 'https://raw.githubusercontent.com/harmanani/AAI614/refs/heads/main/Week%202/nyc_taxi/nyc_taxi_2019-01ab.csv', 'https://raw.githubusercontent.com/harmanani/AAI614/refs/heads/main/Week%202/nyc_taxi/nyc_taxi_2019-01ar.csv',\n",
    "            'https://raw.githubusercontent.com/harmanani/AAI614/refs/heads/main/Week%202/nyc_taxi/nyc_taxi_2019-07aa.csv', 'https://raw.githubusercontent.com/harmanani/AAI614/refs/heads/main/Week%202/nyc_taxi/nyc_taxi_2019-07aq.csv', 'https://raw.githubusercontent.com/harmanani/AAI614/refs/heads/main/Week%202/nyc_taxi/nyc_taxi_2019-01ac.csv',\n",
    "            'https://raw.githubusercontent.com/harmanani/AAI614/refs/heads/main/Week%202/nyc_taxi/nyc_taxi_2019-01as.csv', 'https://raw.githubusercontent.com/harmanani/AAI614/refs/heads/main/Week%202/nyc_taxi/nyc_taxi_2019-07ab.csv', 'https://raw.githubusercontent.com/harmanani/AAI614/refs/heads/main/Week%202/nyc_taxi/nyc_taxi_2019-07ar.csv',\n",
    "            'https://raw.githubusercontent.com/harmanani/AAI614/refs/heads/main/Week%202/nyc_taxi/nyc_taxi_2019-01ad.csv', 'https://raw.githubusercontent.com/harmanani/AAI614/refs/heads/main/Week%202/nyc_taxi/nyc_taxi_2019-01at.csv', 'https://raw.githubusercontent.com/harmanani/AAI614/refs/heads/main/Week%202/nyc_taxi/nyc_taxi_2019-07ac.csv',\n",
    "            'https://raw.githubusercontent.com/harmanani/AAI614/refs/heads/main/Week%202/nyc_taxi/nyc_taxi_2019-07as.csv', 'https://raw.githubusercontent.com/harmanani/AAI614/refs/heads/main/Week%202/nyc_taxi/nyc_taxi_2019-01ae.csv', 'https://raw.githubusercontent.com/harmanani/AAI614/refs/heads/main/Week%202/nyc_taxi/nyc_taxi_2019-01au.csv',\n",
    "            'https://raw.githubusercontent.com/harmanani/AAI614/refs/heads/main/Week%202/nyc_taxi/nyc_taxi_2019-07ad.csv', 'https://raw.githubusercontent.com/harmanani/AAI614/refs/heads/main/Week%202/nyc_taxi/nyc_taxi_2019-07at.csv', 'https://raw.githubusercontent.com/harmanani/AAI614/refs/heads/main/Week%202/nyc_taxi/nyc_taxi_2019-01af.csv',\n",
    "            'https://raw.githubusercontent.com/harmanani/AAI614/refs/heads/main/Week%202/nyc_taxi/nyc_taxi_2019-01av.csv', 'https://raw.githubusercontent.com/harmanani/AAI614/refs/heads/main/Week%202/nyc_taxi/nyc_taxi_2019-07ae.csv', 'https://raw.githubusercontent.com/harmanani/AAI614/refs/heads/main/Week%202/nyc_taxi/nyc_taxi_2019-07au.csv',\n",
    "            'https://raw.githubusercontent.com/harmanani/AAI614/refs/heads/main/Week%202/nyc_taxi/nyc_taxi_2019-01ag.csv', 'https://raw.githubusercontent.com/harmanani/AAI614/refs/heads/main/Week%202/nyc_taxi/nyc_taxi_2019-01aw.csv', 'https://raw.githubusercontent.com/harmanani/AAI614/refs/heads/main/Week%202/nyc_taxi/nyc_taxi_2019-07af.csv',\n",
    "            'https://raw.githubusercontent.com/harmanani/AAI614/refs/heads/main/Week%202/nyc_taxi/nyc_taxi_2019-07av.csv', 'https://raw.githubusercontent.com/harmanani/AAI614/refs/heads/main/Week%202/nyc_taxi/nyc_taxi_2019-01ah.csv', 'https://raw.githubusercontent.com/harmanani/AAI614/refs/heads/main/Week%202/nyc_taxi/nyc_taxi_2019-01ax.csv',\n",
    "            'https://raw.githubusercontent.com/harmanani/AAI614/refs/heads/main/Week%202/nyc_taxi/nyc_taxi_2019-07ag.csv', 'https://raw.githubusercontent.com/harmanani/AAI614/refs/heads/main/Week%202/nyc_taxi/nyc_taxi_2019-07aw.csv', 'https://raw.githubusercontent.com/harmanani/AAI614/refs/heads/main/Week%202/nyc_taxi/nyc_taxi_2019-01ai.csv',\n",
    "            'https://raw.githubusercontent.com/harmanani/AAI614/refs/heads/main/Week%202/nyc_taxi/nyc_taxi_2019-01ay.csv',\n",
    "            'https://raw.githubusercontent.com/harmanani/AAI614/refs/heads/main/Week%202/nyc_taxi/nyc_taxi_2019-07ah.csv', 'https://raw.githubusercontent.com/harmanani/AAI614/refs/heads/main/Week%202/nyc_taxi/nyc_taxi_2019-07ax.csv', 'https://raw.githubusercontent.com/harmanani/AAI614/refs/heads/main/Week%202/nyc_taxi/nyc_taxi_2019-01aj.csv',\n",
    "            'https://raw.githubusercontent.com/harmanani/AAI614/refs/heads/main/Week%202/nyc_taxi/nyc_taxi_2019-01az.csv', 'https://raw.githubusercontent.com/harmanani/AAI614/refs/heads/main/Week%202/nyc_taxi/nyc_taxi_2019-07ai.csv', 'https://raw.githubusercontent.com/harmanani/AAI614/refs/heads/main/Week%202/nyc_taxi/nyc_taxi_2019-07ay.csv',\n",
    "            'https://raw.githubusercontent.com/harmanani/AAI614/refs/heads/main/Week%202/nyc_taxi/nyc_taxi_2019-01ak.csv', 'https://raw.githubusercontent.com/harmanani/AAI614/refs/heads/main/Week%202/nyc_taxi/nyc_taxi_2019-01ba.csv', 'https://raw.githubusercontent.com/harmanani/AAI614/refs/heads/main/Week%202/nyc_taxi/nyc_taxi_2019-07aj.csv',\n",
    "            'https://raw.githubusercontent.com/harmanani/AAI614/refs/heads/main/Week%202/nyc_taxi/nyc_taxi_2019-07az.csv', 'https://raw.githubusercontent.com/harmanani/AAI614/refs/heads/main/Week%202/nyc_taxi/nyc_taxi_2019-01al.csv', 'https://raw.githubusercontent.com/harmanani/AAI614/refs/heads/main/Week%202/nyc_taxi/nyc_taxi_2019-01bb.csv',\n",
    "            'https://raw.githubusercontent.com/harmanani/AAI614/refs/heads/main/Week%202/nyc_taxi/nyc_taxi_2019-07ak.csv', 'https://raw.githubusercontent.com/harmanani/AAI614/refs/heads/main/Week%202/nyc_taxi/nyc_taxi_2019-07ba.csv', 'https://raw.githubusercontent.com/harmanani/AAI614/refs/heads/main/Week%202/nyc_taxi/nyc_taxi_2019-01am.csv',\n",
    "            'https://raw.githubusercontent.com/harmanani/AAI614/refs/heads/main/Week%202/nyc_taxi/nyc_taxi_2019-01bc.csv', 'https://raw.githubusercontent.com/harmanani/AAI614/refs/heads/main/Week%202/nyc_taxi/nyc_taxi_2019-07al.csv', 'https://raw.githubusercontent.com/harmanani/AAI614/refs/heads/main/Week%202/nyc_taxi/nyc_taxi_2019-07bb.csv',\n",
    "            'https://raw.githubusercontent.com/harmanani/AAI614/refs/heads/main/Week%202/nyc_taxi/nyc_taxi_2019-01an.csv', 'https://raw.githubusercontent.com/harmanani/AAI614/refs/heads/main/Week%202/nyc_taxi/nyc_taxi_2019-01bd.csv', 'https://raw.githubusercontent.com/harmanani/AAI614/refs/heads/main/Week%202/nyc_taxi/nyc_taxi_2019-07am.csv',\n",
    "            'https://raw.githubusercontent.com/harmanani/AAI614/refs/heads/main/Week%202/nyc_taxi/nyc_taxi_2019-01ao.csv', 'https://raw.githubusercontent.com/harmanani/AAI614/refs/heads/main/Week%202/nyc_taxi/nyc_taxi_2019-01be.csv', 'https://raw.githubusercontent.com/harmanani/AAI614/refs/heads/main/Week%202/nyc_taxi/nyc_taxi_2019-07an.csv',\n",
    "            'https://raw.githubusercontent.com/harmanani/AAI614/refs/heads/main/Week%202/nyc_taxi/nyc_taxi_2019-01ap.csv', 'https://raw.githubusercontent.com/harmanani/AAI614/refs/heads/main/Week%202/nyc_taxi/nyc_taxi_2019-01bf.csv', 'https://raw.githubusercontent.com/harmanani/AAI614/refs/heads/main/Week%202/nyc_taxi/nyc_taxi_2019-07ao.csv']\n",
    "\n",
    "file_headers = ['VendorID', 'tpep_pickup_datetime', 'tpep_dropoff_datetime', 'passenger_count', 'trip_distance', 'RatecodeID', 'store_and_fwd_flag', 'PULocationID', 'DOLocationID', 'payment_type', 'fare_amount', 'extra', 'mta_tax', 'tip_amount', 'tolls_amount', 'improvement_surcharge', 'total_amount', 'congestion_surcharge']\n",
    "included_col = ['tpep_pickup_datetime', 'passenger_count', 'trip_distance', 'fare_amount', 'extra', 'mta_tax', 'tip_amount', 'tolls_amount', 'improvement_surcharge', 'total_amount', 'congestion_surcharge']\n",
    "\n",
    "all_dfs = [pd.read_csv(one_filename, names = file_headers, header = 1, low_memory = False, usecols = included_col, parse_dates = ['tpep_pickup_datetime']) for one_filename in filenames]\n",
    "\n",
    "df = pd.concat(all_dfs)\n",
    "\n",
    "df.head()"
   ]
  },
  {
   "cell_type": "code",
   "execution_count": null,
   "id": "SKjeA_Xi2a-X",
   "metadata": {
    "colab": {
     "base_uri": "https://localhost:8080/"
    },
    "id": "SKjeA_Xi2a-X",
    "outputId": "919af2e2-89d8-4dcd-f694-ebee52b2037e"
   },
   "outputs": [],
   "source": [
    "df.shape"
   ]
  },
  {
   "cell_type": "code",
   "execution_count": null,
   "id": "e50fa600",
   "metadata": {
    "id": "e50fa600"
   },
   "outputs": [],
   "source": [
    "# Create a new column, pre_tip_amount\n",
    "df['pre_tip_amount'] = (\n",
    "    df\n",
    "    [['fare_amount', 'extra', 'mta_tax', 'tolls_amount',\n",
    "      'improvement_surcharge', 'congestion_surcharge']]\n",
    "    .sum(axis='columns')\n",
    ")"
   ]
  },
  {
   "cell_type": "code",
   "execution_count": null,
   "id": "4e8a58e2",
   "metadata": {
    "id": "4e8a58e2"
   },
   "outputs": [],
   "source": [
    "# Create a new column, tip_percentage, showing the percent of the fare_amount that people tipped\n",
    "df['tip_percentage'] = df['tip_amount'] / df['pre_tip_amount']"
   ]
  },
  {
   "cell_type": "code",
   "execution_count": null,
   "id": "da53a378",
   "metadata": {
    "colab": {
     "base_uri": "https://localhost:8080/"
    },
    "id": "da53a378",
    "outputId": "f411782f-450b-468e-9cac-1f8102f0fb19"
   },
   "outputs": [],
   "source": [
    "# What was the overall tip percentage?\n",
    "df['tip_percentage'].mean()"
   ]
  },
  {
   "cell_type": "code",
   "execution_count": null,
   "id": "c3e69f9d",
   "metadata": {
    "colab": {
     "base_uri": "https://localhost:8080/",
     "height": 178
    },
    "id": "c3e69f9d",
    "outputId": "cea44004-d71f-4456-ae7b-da12f892cfea",
    "scrolled": true
   },
   "outputs": [],
   "source": [
    "# How many times did people tip more than 100%?\n",
    "(df['tip_percentage'] > 1).value_counts()"
   ]
  },
  {
   "cell_type": "code",
   "execution_count": null,
   "id": "98552a52",
   "metadata": {
    "colab": {
     "base_uri": "https://localhost:8080/",
     "height": 178
    },
    "id": "98552a52",
    "outputId": "d5a3797b-d05b-4532-db7b-7816b6a920ca"
   },
   "outputs": [],
   "source": [
    "# What percent of taxi riders give no tip at all?\n",
    "(df['tip_percentage'] == 0).value_counts(normalize=True)"
   ]
  },
  {
   "cell_type": "code",
   "execution_count": null,
   "id": "gNkxwoiZD3_F",
   "metadata": {
    "id": "gNkxwoiZD3_F"
   },
   "outputs": [],
   "source": [
    "df['tpep_pickup_datetime'] = pd.to_datetime(df['tpep_pickup_datetime'], errors = 'coerce')"
   ]
  },
  {
   "cell_type": "code",
   "execution_count": null,
   "id": "352a2c0b",
   "metadata": {
    "colab": {
     "base_uri": "https://localhost:8080/",
     "height": 335
    },
    "id": "352a2c0b",
    "outputId": "1ebf07e5-6fe7-4c34-cb7d-1ed0acb854f6",
    "scrolled": true
   },
   "outputs": [],
   "source": [
    "# On which day of the week do people tip the greatest percentage?\n",
    "# Mon = 0, Tues = 1, Wed = 2, Thu = 3, Fri = 4, Sat = 5, Sun = 6\n",
    "\n",
    "df.groupby(df['tpep_pickup_datetime'].dt.day_of_week)['tip_percentage'].mean().sort_values(ascending=False)"
   ]
  },
  {
   "cell_type": "code",
   "execution_count": null,
   "id": "3ee84377",
   "metadata": {
    "colab": {
     "base_uri": "https://localhost:8080/",
     "height": 868
    },
    "id": "3ee84377",
    "outputId": "d27561de-5e96-49e4-97c8-61c2262f6c97",
    "scrolled": true
   },
   "outputs": [],
   "source": [
    "# At which hour do people tip the greatest percentage?\n",
    "df.groupby(df['tpep_pickup_datetime'].dt.hour)['tip_percentage'].mean().sort_values(ascending=False)"
   ]
  },
  {
   "cell_type": "code",
   "execution_count": null,
   "id": "4396ea84",
   "metadata": {
    "colab": {
     "base_uri": "https://localhost:8080/",
     "height": 492
    },
    "id": "4396ea84",
    "outputId": "d994915c-f1cf-4b5b-c66c-7da1fea74a32",
    "scrolled": true
   },
   "outputs": [],
   "source": [
    "# Do people tip more, on average, in January or July?\n",
    "df.groupby(df['tpep_pickup_datetime'].dt.month)['tip_percentage'].mean().sort_values(ascending=False)"
   ]
  },
  {
   "cell_type": "code",
   "execution_count": null,
   "id": "CGIVwWoqN-6Y",
   "metadata": {
    "colab": {
     "base_uri": "https://localhost:8080/",
     "height": 206
    },
    "id": "CGIVwWoqN-6Y",
    "outputId": "17643b0f-b959-4971-9efa-624143da9eec"
   },
   "outputs": [],
   "source": [
    "df.head()"
   ]
  },
  {
   "cell_type": "code",
   "execution_count": null,
   "id": "y_CATotqOA8W",
   "metadata": {
    "id": "y_CATotqOA8W"
   },
   "outputs": [],
   "source": [
    "df1 = df[['tpep_pickup_datetime','tip_percentage']].copy()"
   ]
  },
  {
   "cell_type": "code",
   "execution_count": null,
   "id": "37wQPJwGO712",
   "metadata": {
    "colab": {
     "base_uri": "https://localhost:8080/",
     "height": 206
    },
    "id": "37wQPJwGO712",
    "outputId": "18fac9a6-95f4-4878-95a4-b675e900c21f"
   },
   "outputs": [],
   "source": [
    "df1.head()"
   ]
  },
  {
   "cell_type": "code",
   "execution_count": null,
   "id": "5f65e5ed",
   "metadata": {
    "colab": {
     "base_uri": "https://localhost:8080/",
     "height": 429
    },
    "id": "5f65e5ed",
    "outputId": "3694a473-ab62-499c-ab47-263cc650a454"
   },
   "outputs": [],
   "source": [
    "# What was the 1-day period in our data set when people tipped the greatest percentage?\n",
    "df1 = df1.set_index('tpep_pickup_datetime')\n",
    "df1.resample('1D')['tip_percentage'].mean().sort_values(ascending=False).head(10)"
   ]
  },
  {
   "cell_type": "code",
   "execution_count": null,
   "id": "NIi03X1MZ3AD",
   "metadata": {
    "colab": {
     "base_uri": "https://localhost:8080/"
    },
    "id": "NIi03X1MZ3AD",
    "outputId": "6b5e4f5a-0409-4986-a0a5-fb5551ab9382"
   },
   "outputs": [],
   "source": [
    "df1 = df1.reset_index()\n",
    "df1 = df1.set_index(pd.to_datetime(df1['tpep_pickup_datetime'].dt.date))\n",
    "print(type(df1.index))"
   ]
  },
  {
   "cell_type": "code",
   "execution_count": null,
   "id": "nQg86GDBbEm7",
   "metadata": {
    "colab": {
     "base_uri": "https://localhost:8080/",
     "height": 238
    },
    "id": "nQg86GDBbEm7",
    "outputId": "b1483af3-2441-4d2a-bdf5-6dba2be5f8a9"
   },
   "outputs": [],
   "source": [
    "df1.head()"
   ]
  },
  {
   "cell_type": "code",
   "execution_count": null,
   "id": "KY0550rXfMzJ",
   "metadata": {
    "colab": {
     "base_uri": "https://localhost:8080/",
     "height": 398
    },
    "id": "KY0550rXfMzJ",
    "outputId": "eb246bbc-e4dd-4280-d3e4-084b298c8998"
   },
   "outputs": [],
   "source": [
    "# Try again, within our range\n",
    "df1 = df1.sort_index()\n",
    "\n",
    "#df1 = pd.concat([df1.loc['2019-01-01':'2019-01-31'], df1.loc['2019-07-01':'2019-07-31']])\n",
    "df1 = pd.concat([df1.loc[pd.date_range('2019-01-01','2019-01-31')], df1.loc[pd.date_range('2019-07-01','2019-07-31')]])\n",
    "\n",
    "df1.resample('1D')['tip_percentage'].mean().sort_values(ascending=False).head(10)"
   ]
  },
  {
   "cell_type": "code",
   "execution_count": null,
   "id": "5388c8d4",
   "metadata": {
    "colab": {
     "base_uri": "https://localhost:8080/",
     "height": 147
    },
    "id": "5388c8d4",
    "outputId": "21979afe-933c-4afd-ed1f-a1d5ae03c934"
   },
   "outputs": [],
   "source": [
    "df1.resample('1ME')['tip_percentage'].mean().dropna()"
   ]
  },
  {
   "cell_type": "markdown",
   "id": "6c95720f",
   "metadata": {
    "id": "6c95720f"
   },
   "source": [
    "# Questions"
   ]
  },
  {
   "cell_type": "markdown",
   "id": "ba13d442",
   "metadata": {
    "id": "ba13d442"
   },
   "source": [
    "1. We saw that 32 percent of riders don't tip at all. Of those who *do*, what percentage do they tip, on average?"
   ]
  },
  {
   "cell_type": "code",
   "execution_count": null,
   "id": "5da12f8f",
   "metadata": {
    "colab": {
     "base_uri": "https://localhost:8080/"
    },
    "id": "5da12f8f",
    "outputId": "2e58e6d6-474e-44df-c7cc-7b805217bf38"
   },
   "outputs": [],
   "source": [
    "avg_per = df['tip_percentage'][df['tip_percentage'] != 0].mean()\n",
    "print(f'Average percentage tip for riders that tip is {avg_per*100:.2f}%')"
   ]
  },
  {
   "cell_type": "markdown",
   "id": "9ac7ee93",
   "metadata": {
    "id": "9ac7ee93"
   },
   "source": [
    "2. How many of the rides in our data set, supposedly from January and July 2019, are from outside of those dates?"
   ]
  },
  {
   "cell_type": "code",
   "execution_count": null,
   "id": "2ffbde94",
   "metadata": {
    "colab": {
     "base_uri": "https://localhost:8080/"
    },
    "id": "2ffbde94",
    "outputId": "bb9ce10d-39c6-4c28-d7ea-580a7aff166b"
   },
   "outputs": [],
   "source": [
    "print('Number of rides outside January and July 2019: ', df.shape[0] - df1.shape[0])"
   ]
  },
  {
   "cell_type": "markdown",
   "id": "9aeae03b",
   "metadata": {
    "id": "9aeae03b"
   },
   "source": [
    "3. Looking only at dates in January and July, on what week did passengers tip the greatest percentage?"
   ]
  },
  {
   "cell_type": "code",
   "execution_count": null,
   "id": "329fa72b",
   "metadata": {
    "colab": {
     "base_uri": "https://localhost:8080/"
    },
    "id": "329fa72b",
    "outputId": "ed8349e1-b3de-4bb8-eccd-1be87aca3a52"
   },
   "outputs": [],
   "source": [
    "from datetime import datetime\n",
    "high_week = df1.resample('1W')['tip_percentage'].mean().sort_values(ascending=False).index\n",
    "print(f'In the week of {high_week[0].strftime(\"%Y-%m-%d\")} passengers tip the greatest percentage')"
   ]
  }
 ],
 "metadata": {
  "colab": {
   "include_colab_link": true,
   "provenance": []
  },
  "kernelspec": {
   "display_name": "Python 3",
   "language": "python",
   "name": "python3"
  },
  "language_info": {
   "codemirror_mode": {
    "name": "ipython",
    "version": 3
   },
   "file_extension": ".py",
   "mimetype": "text/x-python",
   "name": "python",
   "nbconvert_exporter": "python",
   "pygments_lexer": "ipython3",
   "version": "3.10.11"
  }
 },
 "nbformat": 4,
 "nbformat_minor": 5
}
